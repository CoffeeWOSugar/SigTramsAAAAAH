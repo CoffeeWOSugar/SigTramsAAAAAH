{
 "cells": [
  {
   "cell_type": "code",
   "execution_count": null,
   "metadata": {},
   "outputs": [],
   "source": [
    "import numpy as np\n",
    "import matplotlib.pyplot as plt\n",
    "from scipy import signal\n",
    "\n",
    "w_start = 7800* np.pi\n",
    "delta_w = 0.01\n",
    "w_stop = 8200 * np.pi\n",
    "w_arr = np.arange(w_start, w_stop, delta_w)\n",
    "\n",
    "wc = 8000 * np.pi\n",
    "Tb = 1/50\n",
    "Ac = np.sqrt(2) # SET TO SOMETHING BETTER IN 1c\n",
    "bn = 1\n",
    "\n",
    "def signal(w):\n",
    "    res = 0\n",
    "    for i in range(0, 100):\n",
    "        res += (-1)**i * np.e**(-1j*w*(i*0.5))\n",
    "    return res\n",
    "    \n",
    "\n",
    "def Xb(w):\n",
    "    return Tb * signal(w)\n",
    "    return Tb * np.sinc(w*Tb/(2*np.pi)) * signal(w)\n",
    "\n",
    "def Xm(w):\n",
    "    return np.abs(((Ac*1j)/2)*(Xb(w + wc) - Xb(w - wc)))\n",
    "\n",
    "result = np.zeros(len(w_arr))\n",
    "print(len(w_arr))\n",
    "#np.array([Xm(w) for w in w_arr])\n",
    "for i,w in enumerate(w_arr):\n",
    "    print(i)\n",
    "    result[i] = Xm(w)\n",
    "\n",
    "\n",
    "plt.plot(w_arr, result, label=\"Xm(w)\")\n",
    "\n",
    "# Give x, y, title axis label \n",
    "plt.ylabel('x(t)') \n",
    "plt.xlabel('omega [rad / s]') \n",
    "#plt.axhline(0, color='blue', label='$x_{even}$')\n",
    "#plt.axvline(0,color='grey')\n",
    "plt.legend()\n",
    "  \n",
    "# Display \n",
    "plt.show()"
   ]
  },
  {
   "cell_type": "code",
   "execution_count": 25,
   "metadata": {},
   "outputs": [
    {
     "name": "stdout",
     "output_type": "stream",
     "text": [
      "1\n"
     ]
    },
    {
     "ename": "NameError",
     "evalue": "name 'float128' is not defined",
     "output_type": "error",
     "traceback": [
      "\u001b[1;31m---------------------------------------------------------------------------\u001b[0m",
      "\u001b[1;31mNameError\u001b[0m                                 Traceback (most recent call last)",
      "\u001b[1;32mc:\\Users\\sebas\\Desktop\\UwU\\SigTrans\\projekt\\craycray.ipynb Cell 2\u001b[0m line \u001b[0;36m3\n\u001b[0;32m     <a href='vscode-notebook-cell:/c%3A/Users/sebas/Desktop/UwU/SigTrans/projekt/craycray.ipynb#W1sZmlsZQ%3D%3D?line=30'>31</a>\u001b[0m \u001b[39mfor\u001b[39;00m j \u001b[39min\u001b[39;00m [\u001b[39m1\u001b[39m, \u001b[39m10\u001b[39m]:\n\u001b[0;32m     <a href='vscode-notebook-cell:/c%3A/Users/sebas/Desktop/UwU/SigTrans/projekt/craycray.ipynb#W1sZmlsZQ%3D%3D?line=31'>32</a>\u001b[0m     \u001b[39mprint\u001b[39m(j)\n\u001b[1;32m---> <a href='vscode-notebook-cell:/c%3A/Users/sebas/Desktop/UwU/SigTrans/projekt/craycray.ipynb#W1sZmlsZQ%3D%3D?line=32'>33</a>\u001b[0m     result \u001b[39m=\u001b[39m np\u001b[39m.\u001b[39mzeros(\u001b[39mlen\u001b[39m(w_arr), dtype\u001b[39m=\u001b[39mfloat128)\n\u001b[0;32m     <a href='vscode-notebook-cell:/c%3A/Users/sebas/Desktop/UwU/SigTrans/projekt/craycray.ipynb#W1sZmlsZQ%3D%3D?line=33'>34</a>\u001b[0m     \u001b[39mfor\u001b[39;00m i,w \u001b[39min\u001b[39;00m \u001b[39menumerate\u001b[39m(w_arr):\n\u001b[0;32m     <a href='vscode-notebook-cell:/c%3A/Users/sebas/Desktop/UwU/SigTrans/projekt/craycray.ipynb#W1sZmlsZQ%3D%3D?line=34'>35</a>\u001b[0m         result[i] \u001b[39m=\u001b[39m Xm(w,j)\n",
      "\u001b[1;31mNameError\u001b[0m: name 'float128' is not defined"
     ]
    }
   ],
   "source": [
    "import numpy as np\n",
    "import matplotlib.pyplot as plt\n",
    "from scipy import signal\n",
    "\n",
    "w_start = 7999.9* np.pi\n",
    "delta_w = 0.001\n",
    "w_stop = 8000 * np.pi\n",
    "w_arr = np.arange(w_start, w_stop, delta_w)\n",
    "\n",
    "wc = 8000 * np.pi\n",
    "Tb = 1/50\n",
    "Ac = np.sqrt(2) # SET TO SOMETHING BETTER IN 1c\n",
    "bn = 1\n",
    "\n",
    "def signal(w, i):\n",
    "    res = 0\n",
    "    res += 1 * np.e**(-1j*w*(i*0.5))\n",
    "    return res\n",
    "    \n",
    "\n",
    "def Xb(w,i):\n",
    "    return Tb * signal(w,i)\n",
    "    return Tb * np.sinc(w*Tb/(2*np.pi)) * signal(w)\n",
    "\n",
    "def Xm(w,i):\n",
    "    return np.abs(((Ac*1j)/2)*(Xb(w + wc,i) - Xb(w - wc,i)))\n",
    "\n",
    "\n",
    "#print(len(w_arr))\n",
    "#np.array([Xm(w) for w in w_arr])\n",
    "for j in [1, 10]:\n",
    "    print(j)\n",
    "    result = np.zeros(len(w_arr), dtype=float128)\n",
    "    for i,w in enumerate(w_arr):\n",
    "        result[i] = Xm(w,j)\n",
    "    plt.plot(w_arr, result, label=\"Xm(w)\")\n",
    "\n",
    "# Give x, y, title axis label \n",
    "plt.ylabel('x(t)') \n",
    "plt.xlabel('omega [rad / s]') \n",
    "#plt.axhline(0, color='blue', label='$x_{even}$')\n",
    "#plt.axvline(0,color='grey')\n",
    "plt.legend()\n",
    "  \n",
    "# Display \n",
    "plt.show()"
   ]
  }
 ],
 "metadata": {
  "kernelspec": {
   "display_name": "Python 3",
   "language": "python",
   "name": "python3"
  },
  "language_info": {
   "codemirror_mode": {
    "name": "ipython",
    "version": 3
   },
   "file_extension": ".py",
   "mimetype": "text/x-python",
   "name": "python",
   "nbconvert_exporter": "python",
   "pygments_lexer": "ipython3",
   "version": "3.10.7"
  }
 },
 "nbformat": 4,
 "nbformat_minor": 2
}
